{
  "nbformat": 4,
  "nbformat_minor": 0,
  "metadata": {
    "accelerator": "GPU",
    "colab": {
      "name": "tf_practice_1.ipynb",
      "provenance": [],
      "authorship_tag": "ABX9TyMoYRiqks5EThw6kfaJhawr",
      "include_colab_link": true
    },
    "kernelspec": {
      "display_name": "Python 3",
      "name": "python3"
    },
    "language_info": {
      "name": "python"
    }
  },
  "cells": [
    {
      "cell_type": "markdown",
      "metadata": {
        "id": "view-in-github",
        "colab_type": "text"
      },
      "source": [
        "<a href=\"https://colab.research.google.com/github/minzzii-kim/machine-learing/blob/main/tf_practice_1.ipynb\" target=\"_parent\"><img src=\"https://colab.research.google.com/assets/colab-badge.svg\" alt=\"Open In Colab\"/></a>"
      ]
    },
    {
      "cell_type": "code",
      "metadata": {
        "id": "fOM8y9wYzcmf"
      },
      "source": [
        "# [Category 2] Image Classification\n",
        "\n",
        "import tensorflow as tf\n",
        "import matplotlib.pyplot as plt\n",
        "import numpy as np\n",
        "\n",
        "from tensorflow.keras.layers import Dense, Flatten\n",
        "from tensorflow.keras.models import Sequential\n",
        "from tensorflow.keras.callbacks import ModelCheckpoint\n",
        "\n"
      ],
      "execution_count": null,
      "outputs": []
    },
    {
      "cell_type": "code",
      "metadata": {
        "colab": {
          "base_uri": "https://localhost:8080/"
        },
        "id": "exgiz_lZ0f6l",
        "outputId": "f19730ad-9069-41bb-ca29-ec1560962861"
      },
      "source": [
        "fashion_mnist = tf.keras.datasets.fashion_mnist\n",
        "\n",
        "print(fashion_mnist)"
      ],
      "execution_count": null,
      "outputs": [
        {
          "name": "stdout",
          "output_type": "stream",
          "text": [
            "<module 'keras.api._v2.keras.datasets.fashion_mnist' from '/usr/local/lib/python3.7/dist-packages/keras/api/_v2/keras/datasets/fashion_mnist/__init__.py'>\n"
          ]
        }
      ]
    },
    {
      "cell_type": "code",
      "metadata": {
        "id": "q4_ug7hC0v8Y"
      },
      "source": [
        "(x_train, y_train), (x_valid, y_valid) = fashion_mnist.load_data()\n",
        "\n",
        "# 데이터 형태를 출력해서 확인\n",
        "# x_train.shape, x_valid.shape\n",
        "# 28x28 사이즈의 one channel (흑백)\n",
        "print(x_train.shape, x_valid.shape)\n",
        "print(y_train.shape, y_valid.shape)\n"
      ],
      "execution_count": null,
      "outputs": []
    },
    {
      "cell_type": "code",
      "metadata": {
        "colab": {
          "base_uri": "https://localhost:8080/"
        },
        "id": "jVUehxTK1VO6",
        "outputId": "ce3f5e29-a964-41bf-ac8b-81b9ecd06067"
      },
      "source": [
        "# 이미지 정규화\n",
        "\n",
        "#x_train.min(), x_train.max() #(0, 255)\n",
        "\n",
        "x_train = x_train/255.0\n",
        "x_valid = x_valid/255.0\n",
        "\n",
        "x_train.min(), x_train.max() #(0.0, 1.0)"
      ],
      "execution_count": null,
      "outputs": [
        {
          "data": {
            "text/plain": [
              "(0.0, 1.0)"
            ]
          },
          "execution_count": 4,
          "metadata": {},
          "output_type": "execute_result"
        }
      ]
    },
    {
      "cell_type": "code",
      "metadata": {
        "colab": {
          "base_uri": "https://localhost:8080/"
        },
        "id": "lOkdkYBVnfdx",
        "outputId": "7aacfa95-686b-42bb-a176-eab1bce905a7"
      },
      "source": [
        "# Flatten Layer : 2D -> 1D\n",
        "tf.keras.backend.set_floatx('float64')\n",
        "f = Flatten(input_shape = (28,28))\n",
        "f(x_train).shape # 6000, 784"
      ],
      "execution_count": null,
      "outputs": [
        {
          "data": {
            "text/plain": [
              "TensorShape([60000, 784])"
            ]
          },
          "execution_count": 5,
          "metadata": {},
          "output_type": "execute_result"
        }
      ]
    },
    {
      "cell_type": "code",
      "metadata": {
        "id": "9slnVnbAqbt9"
      },
      "source": [
        "# 모델정의 및 생성\n",
        "\n",
        "model = Sequential([\n",
        "    Flatten(input_shape=(28,28)),\n",
        "    Dense(1024, activation='relu'),\n",
        "    Dense(512, activation='relu'),\n",
        "    Dense(256, activation='relu'),\n",
        "    Dense(128, activation='relu'),\n",
        "    Dense(64, activation='relu'),\n",
        "    Dense(32, activation='relu'),\n",
        "    Dense(10, activation='softmax')\n",
        "])\n",
        "\n",
        "# [모델 생성시, loss 함수 설정을 위해 체크]\n",
        "# y값 형태 확인 (원핫인코딩여부)\n",
        "# print(y_train[0]) #9 -> 원핫인코딩 x\n",
        "# print(tf.one_hot(y_train[0], 10))\n",
        "model.compile(optimizer='adam', loss='sparse_categorical_crossentropy', metrics=['acc'] )\n",
        "\n",
        "# 과적합 방지를 위해 best epoch 저장\n",
        "tmp_path = 'tmp_checkpoint.ckpt'\n",
        "ckpt_cb = ModelCheckpoint(filepath = tmp_path, \n",
        "                          monitor='val_loss',\n",
        "                          verbose=1, \n",
        "                          save_best_only=True, \n",
        "                          save_weights_only=True)\n",
        "\n",
        "\n"
      ],
      "execution_count": null,
      "outputs": []
    },
    {
      "cell_type": "code",
      "metadata": {
        "colab": {
          "background_save": true
        },
        "id": "sTuqbqTTui-K"
      },
      "source": [
        "# 모델 학습\n",
        "\n",
        "model.fit(\n",
        "  x=x_train, y=y_train,\n",
        "  validation_data=(x_valid, y_valid),\n",
        "  epochs=20,\n",
        "  callbacks=[ckpt_cb]          \n",
        ")"
      ],
      "execution_count": null,
      "outputs": []
    },
    {
      "cell_type": "code",
      "metadata": {
        "id": "xkzc6LP61QUe",
        "colab": {
          "base_uri": "https://localhost:8080/"
        },
        "outputId": "3b770126-c516-4c72-ad85-fc464cca389e"
      },
      "source": [
        "model.load_weights(tmp_path)"
      ],
      "execution_count": 9,
      "outputs": [
        {
          "output_type": "execute_result",
          "data": {
            "text/plain": [
              "<tensorflow.python.training.tracking.util.CheckpointLoadStatus at 0x7f95206bfc50>"
            ]
          },
          "metadata": {},
          "execution_count": 9
        }
      ]
    },
    {
      "cell_type": "code",
      "metadata": {
        "colab": {
          "base_uri": "https://localhost:8080/"
        },
        "id": "XOKiKirf2Ghc",
        "outputId": "c653e8a8-0946-478a-dd03-797e17d00900"
      },
      "source": [
        "model.evaluate(x_valid, y_valid)"
      ],
      "execution_count": 10,
      "outputs": [
        {
          "output_type": "stream",
          "name": "stdout",
          "text": [
            "313/313 [==============================] - 1s 5ms/step - loss: 0.3349 - acc: 0.8860\n"
          ]
        },
        {
          "output_type": "execute_result",
          "data": {
            "text/plain": [
              "[0.3348595961809158, 0.886]"
            ]
          },
          "metadata": {},
          "execution_count": 10
        }
      ]
    }
  ]
}