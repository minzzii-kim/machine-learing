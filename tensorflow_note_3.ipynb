{
  "nbformat": 4,
  "nbformat_minor": 0,
  "metadata": {
    "colab": {
      "name": "tensorflow_note_3.ipynb",
      "provenance": [],
      "authorship_tag": "ABX9TyO4wzghF85AwbLeGQ3Upmf8",
      "include_colab_link": true
    },
    "kernelspec": {
      "name": "python3",
      "display_name": "Python 3"
    },
    "language_info": {
      "name": "python"
    },
    "accelerator": "GPU"
  },
  "cells": [
    {
      "cell_type": "markdown",
      "metadata": {
        "id": "view-in-github",
        "colab_type": "text"
      },
      "source": [
        "<a href=\"https://colab.research.google.com/github/minzzii-kim/machine-learing/blob/main/tensorflow_note_3.ipynb\" target=\"_parent\"><img src=\"https://colab.research.google.com/assets/colab-badge.svg\" alt=\"Open In Colab\"/></a>"
      ]
    },
    {
      "cell_type": "code",
      "metadata": {
        "colab": {
          "base_uri": "https://localhost:8080/"
        },
        "id": "Itgabqrg2rgB",
        "outputId": "fe317804-7da6-4405-95d5-318485d98c02"
      },
      "source": [
        "# 2-1. 이미지 데이터 분류기 (image)\n",
        "# 2-2. 정형 데이터 분류기 (structured data)\n",
        "\n",
        "# [iris 꽃 분류]\n",
        "# tensorflow datasets 활용한 데이터 전처리 기능 구현 preprocess 함수\n",
        "\n",
        "import numpy as np\n",
        "import tensorflow as tf\n",
        "import tensorflow_datasets as tfds # 새롭게 추가된 부분\n",
        "\n",
        "from tensorflow.keras.layers import Dense\n",
        "from tensorflow.keras.models import Sequential\n",
        "from tensorflow.keras.callbacks import ModelCheckpoint\n",
        "\n",
        "train_ds = tfds.load('iris', split='train[:80%]')\n",
        "valid_ds = tfds.load('iris', split='train[80%:]')\n",
        "\n",
        "#print(train_ds)\n",
        "\n",
        "# 시험에서의 전처리 요구조건\n",
        "# 1. label 값에 대해 원핫인코딩\n",
        "# 2. features(x), label(y) 로 분할\n",
        "\n",
        "for data in train_ds.take(5):\n",
        "  x=data['features']\n",
        "  y=tf.one_hot(data['label'], 3)\n",
        "  #print('x: ', x)\n",
        "  #print('y: ', y)\n",
        "\n",
        "def preprocess(data):\n",
        "  x=data['features']\n",
        "  y=data['label']\n",
        "  y=tf.one_hot(y, 3)\n",
        "  return x,y\n",
        "\n",
        "len(train_ds) #120\n",
        "len(valid_ds) #30\n"
      ],
      "execution_count": 10,
      "outputs": [
        {
          "output_type": "execute_result",
          "data": {
            "text/plain": [
              "30"
            ]
          },
          "metadata": {},
          "execution_count": 10
        }
      ]
    },
    {
      "cell_type": "code",
      "metadata": {
        "id": "G6F30gvXH-G0"
      },
      "source": [
        "# preprocess 함수를 train_ds 에 적용\n",
        "# batch_size 적용\n",
        "\n",
        "# 문제에서 batch_size 주어짐\n",
        "# 메모리에 120개의 이미지를 한번 올릴수 없기때문에, 1epoch 당 batch 단위로 잘라서 올린다.\n",
        "# batch 갯수만큼 weight update를 진행하기때문에 성능에 큰 영향을 받는다.\n",
        "\n",
        "batch_size=10\n",
        "train_data = train_ds.map(preprocess).batch(batch_size)\n",
        "valid_data = valid_ds.map(preprocess).batch(batch_size)\n",
        "\n",
        "\n"
      ],
      "execution_count": 11,
      "outputs": []
    },
    {
      "cell_type": "code",
      "metadata": {
        "id": "i4pOJ6iSKnSl"
      },
      "source": [
        "# 모델 정의 및 생성\n",
        "model = Sequential([\n",
        "  #정형데이터는 이미 1D 이기 때문에 flatten 레이어가 필요없음. 바로 dense 레이어 적용\n",
        "  Dense(1024, activation='relu'),                    \n",
        "  Dense(512, activation='relu'),                    \n",
        "  Dense(256, activation='relu'),                    \n",
        "  Dense(128, activation='relu'),                    \n",
        "  Dense(64, activation='relu'),                    \n",
        "  Dense(32, activation='relu'),                    \n",
        "  Dense(16, activation='relu'),                    \n",
        "  Dense(3, activation='softmax'),  # 분류문제의 출력층 => 고정되어있음 => loss 함수 선택                 \n",
        "])\n",
        "\n",
        "tmp_path = 'tmp_checkpoint.ckpt'\n",
        "modelcheckpoint_obj = ModelCheckpoint(\n",
        "    filepath=tmp_path,\n",
        "    monitor='val_loss',\n",
        "    save_weights_only=True,\n",
        "    save_best_only = True,\n",
        "    verbose=1\n",
        ")\n",
        "model.compile(optimizer='adam', loss='categorical_crossentropy', metrics=['acc'])\n",
        "\n"
      ],
      "execution_count": 12,
      "outputs": []
    },
    {
      "cell_type": "code",
      "metadata": {
        "colab": {
          "base_uri": "https://localhost:8080/"
        },
        "id": "vdYJ4-kmMJCr",
        "outputId": "bf0672ea-7ba3-448f-f8d7-33f3f87e0389"
      },
      "source": [
        "# 학습시작\n",
        "model.fit(train_data, validation_data=valid_data, epochs=20, callbacks=[modelcheckpoint_obj] )\n",
        "\n",
        "model.load_weights(tmp_path)"
      ],
      "execution_count": 13,
      "outputs": [
        {
          "output_type": "stream",
          "name": "stdout",
          "text": [
            "Epoch 1/20\n",
            "10/12 [========================>.....] - ETA: 0s - loss: 1.0257 - acc: 0.3700 \n",
            "Epoch 00001: val_loss improved from inf to 0.88706, saving model to tmp_checkpoint.ckpt\n",
            "12/12 [==============================] - 2s 36ms/step - loss: 0.9912 - acc: 0.3833 - val_loss: 0.8871 - val_acc: 0.6333\n",
            "Epoch 2/20\n",
            "11/12 [==========================>...] - ETA: 0s - loss: 0.7881 - acc: 0.6636\n",
            "Epoch 00002: val_loss improved from 0.88706 to 0.64021, saving model to tmp_checkpoint.ckpt\n",
            "12/12 [==============================] - 0s 20ms/step - loss: 0.7688 - acc: 0.6750 - val_loss: 0.6402 - val_acc: 0.7000\n",
            "Epoch 3/20\n",
            "10/12 [========================>.....] - ETA: 0s - loss: 0.4842 - acc: 0.7700\n",
            "Epoch 00003: val_loss improved from 0.64021 to 0.34527, saving model to tmp_checkpoint.ckpt\n",
            "12/12 [==============================] - 0s 18ms/step - loss: 0.4541 - acc: 0.8000 - val_loss: 0.3453 - val_acc: 0.9000\n",
            "Epoch 4/20\n",
            "11/12 [==========================>...] - ETA: 0s - loss: 0.2711 - acc: 0.8818\n",
            "Epoch 00004: val_loss did not improve from 0.34527\n",
            "12/12 [==============================] - 0s 17ms/step - loss: 0.2649 - acc: 0.8917 - val_loss: 0.4676 - val_acc: 0.7000\n",
            "Epoch 5/20\n",
            " 9/12 [=====================>........] - ETA: 0s - loss: 0.3247 - acc: 0.8222\n",
            "Epoch 00005: val_loss did not improve from 0.34527\n",
            "12/12 [==============================] - 0s 19ms/step - loss: 0.3108 - acc: 0.8333 - val_loss: 0.6704 - val_acc: 0.7333\n",
            "Epoch 6/20\n",
            " 9/12 [=====================>........] - ETA: 0s - loss: 0.2779 - acc: 0.9000\n",
            "Epoch 00006: val_loss improved from 0.34527 to 0.30395, saving model to tmp_checkpoint.ckpt\n",
            "12/12 [==============================] - 0s 21ms/step - loss: 0.2557 - acc: 0.9000 - val_loss: 0.3040 - val_acc: 0.8667\n",
            "Epoch 7/20\n",
            " 9/12 [=====================>........] - ETA: 0s - loss: 0.1594 - acc: 0.9333\n",
            "Epoch 00007: val_loss improved from 0.30395 to 0.23896, saving model to tmp_checkpoint.ckpt\n",
            "12/12 [==============================] - 0s 19ms/step - loss: 0.1594 - acc: 0.9250 - val_loss: 0.2390 - val_acc: 0.9000\n",
            "Epoch 8/20\n",
            "10/12 [========================>.....] - ETA: 0s - loss: 0.0823 - acc: 0.9800\n",
            "Epoch 00008: val_loss improved from 0.23896 to 0.19497, saving model to tmp_checkpoint.ckpt\n",
            "12/12 [==============================] - 0s 19ms/step - loss: 0.0856 - acc: 0.9750 - val_loss: 0.1950 - val_acc: 0.9000\n",
            "Epoch 9/20\n",
            "10/12 [========================>.....] - ETA: 0s - loss: 0.1672 - acc: 0.9300\n",
            "Epoch 00009: val_loss did not improve from 0.19497\n",
            "12/12 [==============================] - 0s 13ms/step - loss: 0.1516 - acc: 0.9333 - val_loss: 0.2107 - val_acc: 0.9000\n",
            "Epoch 10/20\n",
            "10/12 [========================>.....] - ETA: 0s - loss: 0.0461 - acc: 0.9900\n",
            "Epoch 00010: val_loss did not improve from 0.19497\n",
            "12/12 [==============================] - 0s 13ms/step - loss: 0.0574 - acc: 0.9833 - val_loss: 0.2217 - val_acc: 0.9000\n",
            "Epoch 11/20\n",
            "10/12 [========================>.....] - ETA: 0s - loss: 0.0925 - acc: 0.9600\n",
            "Epoch 00011: val_loss did not improve from 0.19497\n",
            "12/12 [==============================] - 0s 13ms/step - loss: 0.0918 - acc: 0.9583 - val_loss: 0.2046 - val_acc: 0.9333\n",
            "Epoch 12/20\n",
            "11/12 [==========================>...] - ETA: 0s - loss: 0.0528 - acc: 0.9909\n",
            "Epoch 00012: val_loss improved from 0.19497 to 0.16346, saving model to tmp_checkpoint.ckpt\n",
            "12/12 [==============================] - 0s 17ms/step - loss: 0.0591 - acc: 0.9833 - val_loss: 0.1635 - val_acc: 0.9667\n",
            "Epoch 13/20\n",
            " 9/12 [=====================>........] - ETA: 0s - loss: 0.1221 - acc: 0.9333\n",
            "Epoch 00013: val_loss did not improve from 0.16346\n",
            "12/12 [==============================] - 0s 16ms/step - loss: 0.1578 - acc: 0.9333 - val_loss: 0.1665 - val_acc: 0.9667\n",
            "Epoch 14/20\n",
            "10/12 [========================>.....] - ETA: 0s - loss: 0.0503 - acc: 0.9800\n",
            "Epoch 00014: val_loss did not improve from 0.16346\n",
            "12/12 [==============================] - 0s 14ms/step - loss: 0.0522 - acc: 0.9750 - val_loss: 0.1660 - val_acc: 0.9667\n",
            "Epoch 15/20\n",
            "10/12 [========================>.....] - ETA: 0s - loss: 0.0771 - acc: 0.9800\n",
            "Epoch 00015: val_loss improved from 0.16346 to 0.15446, saving model to tmp_checkpoint.ckpt\n",
            "12/12 [==============================] - 0s 18ms/step - loss: 0.0704 - acc: 0.9833 - val_loss: 0.1545 - val_acc: 0.9333\n",
            "Epoch 16/20\n",
            " 9/12 [=====================>........] - ETA: 0s - loss: 0.1885 - acc: 0.9222\n",
            "Epoch 00016: val_loss did not improve from 0.15446\n",
            "12/12 [==============================] - 0s 14ms/step - loss: 0.1543 - acc: 0.9417 - val_loss: 0.1749 - val_acc: 0.9000\n",
            "Epoch 17/20\n",
            "11/12 [==========================>...] - ETA: 0s - loss: 0.1714 - acc: 0.9364\n",
            "Epoch 00017: val_loss did not improve from 0.15446\n",
            "12/12 [==============================] - 0s 14ms/step - loss: 0.1617 - acc: 0.9417 - val_loss: 0.2047 - val_acc: 0.8667\n",
            "Epoch 18/20\n",
            "10/12 [========================>.....] - ETA: 0s - loss: 0.2994 - acc: 0.8600\n",
            "Epoch 00018: val_loss did not improve from 0.15446\n",
            "12/12 [==============================] - 0s 13ms/step - loss: 0.2626 - acc: 0.8750 - val_loss: 0.1811 - val_acc: 0.9333\n",
            "Epoch 19/20\n",
            "11/12 [==========================>...] - ETA: 0s - loss: 0.2198 - acc: 0.9091\n",
            "Epoch 00019: val_loss did not improve from 0.15446\n",
            "12/12 [==============================] - 0s 13ms/step - loss: 0.2222 - acc: 0.9083 - val_loss: 0.2402 - val_acc: 0.9000\n",
            "Epoch 20/20\n",
            " 9/12 [=====================>........] - ETA: 0s - loss: 0.0816 - acc: 1.0000\n",
            "Epoch 00020: val_loss did not improve from 0.15446\n",
            "12/12 [==============================] - 0s 16ms/step - loss: 0.0895 - acc: 0.9917 - val_loss: 0.2345 - val_acc: 0.9000\n"
          ]
        },
        {
          "output_type": "execute_result",
          "data": {
            "text/plain": [
              "<tensorflow.python.training.tracking.util.CheckpointLoadStatus at 0x7f06c895afd0>"
            ]
          },
          "metadata": {},
          "execution_count": 13
        }
      ]
    },
    {
      "cell_type": "code",
      "metadata": {
        "colab": {
          "base_uri": "https://localhost:8080/"
        },
        "id": "dX6tYGhzM3Ls",
        "outputId": "50156623-986b-4bef-f997-42c09e9205dd"
      },
      "source": [
        "model.evaluate(valid_data)"
      ],
      "execution_count": 15,
      "outputs": [
        {
          "output_type": "stream",
          "name": "stdout",
          "text": [
            "3/3 [==============================] - 0s 6ms/step - loss: 0.1545 - acc: 0.9333\n"
          ]
        },
        {
          "output_type": "execute_result",
          "data": {
            "text/plain": [
              "[0.15446384251117706, 0.9333333373069763]"
            ]
          },
          "metadata": {},
          "execution_count": 15
        }
      ]
    },
    {
      "cell_type": "code",
      "metadata": {
        "id": "3i7Hbn44NmBW"
      },
      "source": [
        ""
      ],
      "execution_count": null,
      "outputs": []
    }
  ]
}