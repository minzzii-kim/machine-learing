{
  "nbformat": 4,
  "nbformat_minor": 0,
  "metadata": {
    "colab": {
      "name": "tensorflow_note_4.ipynb",
      "provenance": [],
      "authorship_tag": "ABX9TyMoJ70tPwBcIIh4y1mVmfy4",
      "include_colab_link": true
    },
    "kernelspec": {
      "name": "python3",
      "display_name": "Python 3"
    },
    "language_info": {
      "name": "python"
    },
    "accelerator": "GPU"
  },
  "cells": [
    {
      "cell_type": "markdown",
      "metadata": {
        "id": "view-in-github",
        "colab_type": "text"
      },
      "source": [
        "<a href=\"https://colab.research.google.com/github/minzzii-kim/machine-learing/blob/main/tensorflow_note_4.ipynb\" target=\"_parent\"><img src=\"https://colab.research.google.com/assets/colab-badge.svg\" alt=\"Open In Colab\"/></a>"
      ]
    },
    {
      "cell_type": "code",
      "metadata": {
        "id": "fvhUwiZHw0kE"
      },
      "source": [
        "# [이미지 분류기 만들기]\n",
        "# Type A : IDG\n",
        "# Type B : tfds\n",
        "\n",
        "# [Type A] - IDG를 활용해 Image Augmentation\n",
        "# fn {flow_from_directory} : \n",
        "# 로컬에 있는 이미지파일의 루트경로만 지정해주면 알아서\n",
        "# 지정된 타겟사이즈만큼 이미지를 잘라서 batch 단위로 메모리에 올리고,\n",
        "# subdirectory 단위로 이미지들을 라벨링한다.\n",
        "# arg {class_mode} : 마지막 출력층 형태를 보고 결정\n",
        "# Dense(1, activation='sigmoid') => class_mode='binary'\n",
        "# Dense(2, activation='softmax') => class_mode='categorical'"
      ],
      "execution_count": null,
      "outputs": []
    },
    {
      "cell_type": "code",
      "metadata": {
        "id": "93BXi7oUzsG0"
      },
      "source": [
        "  # [특성추출]\n",
        "  \n",
        "  # CNN (Convolutional Neural Network, 합성곱 신경망)\n",
        "  # 원본이미지(nxn) + CNN_필터_1(3x3) -> feature_map_1 ((n-2)x(n-2))\n",
        "  # 원본이미지(nxn) + CNN_필터_2(3x3) -> feature_map_2 ((n-2)x(n-2))\n",
        "  # 원본이미지(nxn) + CNN_필터_3(3x3) -> feature_map_3 ((n-2)x(n-2))\n",
        "  # .....\n",
        "  # => 필터 갯수만큼 다양한 feature_map 생성\n",
        "  # Conv2D(n, (f,f), activation='relu') ; n : 필터갯수, f : 필터사이즈\n",
        "\n",
        "  # [Pooling Layer] - 연산량 줄여줌\n",
        "  # MaxPooling2D Layer\n",
        "  # MaxPooling2D(n, n) -> 원본사이즈 (가로 * 1/n) * (세로 * 1/n) 만큼 크기가 줄어든다.\n",
        "\n",
        "  # => 이미지 특성추출시 Conv2D + MaxPooling2D 조합으로 많이사용\n"
      ],
      "execution_count": null,
      "outputs": []
    },
    {
      "cell_type": "code",
      "metadata": {
        "id": "ovvyMZUE2VZX"
      },
      "source": [
        "from urllib.request import urlretrieve\n",
        "from zipfile import ZipFile\n",
        "\n",
        "import numpy as np\n",
        "import tensorflow as tf\n",
        "\n",
        "from tensorflow.keras.layers import Conv2D, MaxPooling2D,Flatten,Dropout,Dense\n",
        "from tensorflow.keras.models import Sequential\n",
        "from tensorflow.keras.preprocessing.image import ImageDataGenerator\n",
        "from tensorflow.keras.callbacks import ModelCheckpoint\n"
      ],
      "execution_count": 8,
      "outputs": []
    },
    {
      "cell_type": "code",
      "metadata": {
        "id": "HsJhQCkUbUNw"
      },
      "source": [
        "url = 'https://storage.googleapis.com/download.tensorflow.org/data/rps.zip'\n",
        "urlretrieve(url, 'rps.zip')\n",
        "# zip_ref = ZipFile('rps.zip', 'r')\n",
        "# zip_ref.extractall('tmp/')\n",
        "# zip_ref.close()\n",
        "\n",
        "with ZipFile('rps.zip','r') as zf:\n",
        "  zf.extractall('tmp/')\n"
      ],
      "execution_count": 2,
      "outputs": []
    },
    {
      "cell_type": "code",
      "metadata": {
        "colab": {
          "base_uri": "https://localhost:8080/"
        },
        "id": "DjRCJlpHb-pO",
        "outputId": "d6990a17-4d34-4b10-b84e-3965963db64c"
      },
      "source": [
        "# ImageDataGenerator 를 활용해 이미지데이터 전처리\n",
        "\n",
        "# IDG spec 정의\n",
        "IDG = ImageDataGenerator(\n",
        "    rescale=1./255., # 정규화\n",
        "    rotation_range=40,\n",
        "    width_shift_range=0.2,\n",
        "    height_shift_range=0.2,\n",
        "    shear_range=0.2,\n",
        "    zoom_range=0.2,\n",
        "    horizontal_flip=True,\n",
        "    fill_mode='nearest',\n",
        "    validation_split=0.2\n",
        ")\n",
        "\n",
        "ROOT_DIR = 'tmp/rps/'\n",
        "train_data = IDG.flow_from_directory(\n",
        "    ROOT_DIR,\n",
        "    batch_size=64, #128\n",
        "    target_size=(150,150),\n",
        "    class_mode='categorical',\n",
        "    subset='training'\n",
        ")\n",
        "valid_data = IDG.flow_from_directory(\n",
        "    ROOT_DIR,\n",
        "    batch_size=64, #128\n",
        "    target_size=(150,150),\n",
        "    class_mode='categorical',\n",
        "    subset='validation'\n",
        ")\n",
        "\n"
      ],
      "execution_count": 4,
      "outputs": [
        {
          "output_type": "stream",
          "name": "stdout",
          "text": [
            "Found 2016 images belonging to 3 classes.\n",
            "Found 504 images belonging to 3 classes.\n"
          ]
        }
      ]
    },
    {
      "cell_type": "code",
      "metadata": {
        "id": "E99hlWzEdUH9"
      },
      "source": [
        "# 모델정의 및 생성\n",
        "\n",
        "model = Sequential([\n",
        "  Conv2D(64, (3,3), activation='relu', input_shape=(150,150,3)),\n",
        "  MaxPooling2D(2,2),\n",
        "  Conv2D(64, (3,3), activation='relu'),\n",
        "  MaxPooling2D(2,2),\n",
        "  Conv2D(128, (3,3), activation='relu'),\n",
        "  MaxPooling2D(2,2),\n",
        "  Conv2D(128, (3,3), activation='relu'),\n",
        "  MaxPooling2D(2,2),\n",
        "  Flatten(),\n",
        "  Dropout(0.5),\n",
        "  Dense(512, activation='relu'),\n",
        "  # Dense(32, activation='relu'),\n",
        "  # Dense(16, activation='relu'),\n",
        "  Dense(3, activation='softmax'),\n",
        "])\n",
        "\n",
        "tmp_file = 'tmp_checkpoint.ckpt'\n",
        "checkpoint_cb = ModelCheckpoint(tmp_file, \n",
        "                                monitor='val_loss',\n",
        "                                verbose=1, \n",
        "                                save_best_only=True,\n",
        "                                save_weights_only=True)\n",
        "\n",
        "model.compile(optimizer='adam', loss='categorical_crossentropy', metrics=['acc'] )\n"
      ],
      "execution_count": 13,
      "outputs": []
    },
    {
      "cell_type": "code",
      "metadata": {
        "colab": {
          "base_uri": "https://localhost:8080/"
        },
        "id": "AGBZZDrnfmQf",
        "outputId": "4a86076c-e919-4b21-ad36-21f6eb04325e"
      },
      "source": [
        "# 모델학습\n",
        "\n",
        "model.fit(train_data, \n",
        "          validation_data = (valid_data), \n",
        "          epochs=25, \n",
        "          callbacks=[checkpoint_cb])"
      ],
      "execution_count": 14,
      "outputs": [
        {
          "output_type": "stream",
          "name": "stdout",
          "text": [
            "Epoch 1/20\n",
            "32/32 [==============================] - ETA: 0s - loss: 1.1114 - acc: 0.3621\n",
            "Epoch 00001: val_loss improved from inf to 1.08437, saving model to tmp_checkpoint.ckpt\n",
            "32/32 [==============================] - 24s 731ms/step - loss: 1.1114 - acc: 0.3621 - val_loss: 1.0844 - val_acc: 0.3333\n",
            "Epoch 2/20\n",
            "32/32 [==============================] - ETA: 0s - loss: 0.9931 - acc: 0.4871\n",
            "Epoch 00002: val_loss improved from 1.08437 to 0.89341, saving model to tmp_checkpoint.ckpt\n",
            "32/32 [==============================] - 23s 709ms/step - loss: 0.9931 - acc: 0.4871 - val_loss: 0.8934 - val_acc: 0.5377\n",
            "Epoch 3/20\n",
            "32/32 [==============================] - ETA: 0s - loss: 0.7524 - acc: 0.6419\n",
            "Epoch 00003: val_loss improved from 0.89341 to 0.85120, saving model to tmp_checkpoint.ckpt\n",
            "32/32 [==============================] - 23s 705ms/step - loss: 0.7524 - acc: 0.6419 - val_loss: 0.8512 - val_acc: 0.6091\n",
            "Epoch 4/20\n",
            "32/32 [==============================] - ETA: 0s - loss: 0.5372 - acc: 0.7728\n",
            "Epoch 00004: val_loss improved from 0.85120 to 0.76633, saving model to tmp_checkpoint.ckpt\n",
            "32/32 [==============================] - 23s 711ms/step - loss: 0.5372 - acc: 0.7728 - val_loss: 0.7663 - val_acc: 0.7063\n",
            "Epoch 5/20\n",
            "32/32 [==============================] - ETA: 0s - loss: 0.3937 - acc: 0.8447\n",
            "Epoch 00005: val_loss did not improve from 0.76633\n",
            "32/32 [==============================] - 23s 705ms/step - loss: 0.3937 - acc: 0.8447 - val_loss: 0.7722 - val_acc: 0.7282\n",
            "Epoch 6/20\n",
            "32/32 [==============================] - ETA: 0s - loss: 0.2905 - acc: 0.8909\n",
            "Epoch 00006: val_loss did not improve from 0.76633\n",
            "32/32 [==============================] - 22s 704ms/step - loss: 0.2905 - acc: 0.8909 - val_loss: 0.9235 - val_acc: 0.6230\n",
            "Epoch 7/20\n",
            "32/32 [==============================] - ETA: 0s - loss: 0.2140 - acc: 0.9236\n",
            "Epoch 00007: val_loss did not improve from 0.76633\n",
            "32/32 [==============================] - 22s 702ms/step - loss: 0.2140 - acc: 0.9236 - val_loss: 0.9705 - val_acc: 0.6627\n",
            "Epoch 8/20\n",
            "32/32 [==============================] - ETA: 0s - loss: 0.1591 - acc: 0.9420\n",
            "Epoch 00008: val_loss did not improve from 0.76633\n",
            "32/32 [==============================] - 22s 701ms/step - loss: 0.1591 - acc: 0.9420 - val_loss: 1.0238 - val_acc: 0.6290\n",
            "Epoch 9/20\n",
            "32/32 [==============================] - ETA: 0s - loss: 0.1305 - acc: 0.9534\n",
            "Epoch 00009: val_loss did not improve from 0.76633\n",
            "32/32 [==============================] - 23s 706ms/step - loss: 0.1305 - acc: 0.9534 - val_loss: 1.5292 - val_acc: 0.6012\n",
            "Epoch 10/20\n",
            "32/32 [==============================] - ETA: 0s - loss: 0.1597 - acc: 0.9390\n",
            "Epoch 00010: val_loss did not improve from 0.76633\n",
            "32/32 [==============================] - 23s 709ms/step - loss: 0.1597 - acc: 0.9390 - val_loss: 0.8706 - val_acc: 0.7460\n",
            "Epoch 11/20\n",
            "32/32 [==============================] - ETA: 0s - loss: 0.1182 - acc: 0.9598\n",
            "Epoch 00011: val_loss did not improve from 0.76633\n",
            "32/32 [==============================] - 23s 705ms/step - loss: 0.1182 - acc: 0.9598 - val_loss: 1.2500 - val_acc: 0.6052\n",
            "Epoch 12/20\n",
            "32/32 [==============================] - ETA: 0s - loss: 0.1064 - acc: 0.9583\n",
            "Epoch 00012: val_loss improved from 0.76633 to 0.52845, saving model to tmp_checkpoint.ckpt\n",
            "32/32 [==============================] - 22s 702ms/step - loss: 0.1064 - acc: 0.9583 - val_loss: 0.5285 - val_acc: 0.8115\n",
            "Epoch 13/20\n",
            "32/32 [==============================] - ETA: 0s - loss: 0.0930 - acc: 0.9722\n",
            "Epoch 00013: val_loss did not improve from 0.52845\n",
            "32/32 [==============================] - 22s 695ms/step - loss: 0.0930 - acc: 0.9722 - val_loss: 0.8571 - val_acc: 0.8056\n",
            "Epoch 14/20\n",
            "32/32 [==============================] - ETA: 0s - loss: 0.0849 - acc: 0.9712\n",
            "Epoch 00014: val_loss did not improve from 0.52845\n",
            "32/32 [==============================] - 22s 690ms/step - loss: 0.0849 - acc: 0.9712 - val_loss: 0.6164 - val_acc: 0.8214\n",
            "Epoch 15/20\n",
            "32/32 [==============================] - ETA: 0s - loss: 0.0819 - acc: 0.9732\n",
            "Epoch 00015: val_loss did not improve from 0.52845\n",
            "32/32 [==============================] - 22s 697ms/step - loss: 0.0819 - acc: 0.9732 - val_loss: 1.0692 - val_acc: 0.7361\n",
            "Epoch 16/20\n",
            "32/32 [==============================] - ETA: 0s - loss: 0.0704 - acc: 0.9752\n",
            "Epoch 00016: val_loss did not improve from 0.52845\n",
            "32/32 [==============================] - 22s 693ms/step - loss: 0.0704 - acc: 0.9752 - val_loss: 0.9005 - val_acc: 0.7480\n",
            "Epoch 17/20\n",
            "32/32 [==============================] - ETA: 0s - loss: 0.0661 - acc: 0.9757\n",
            "Epoch 00017: val_loss did not improve from 0.52845\n",
            "32/32 [==============================] - 22s 695ms/step - loss: 0.0661 - acc: 0.9757 - val_loss: 0.7045 - val_acc: 0.8056\n",
            "Epoch 18/20\n",
            "32/32 [==============================] - ETA: 0s - loss: 0.0624 - acc: 0.9792\n",
            "Epoch 00018: val_loss improved from 0.52845 to 0.52114, saving model to tmp_checkpoint.ckpt\n",
            "32/32 [==============================] - 22s 697ms/step - loss: 0.0624 - acc: 0.9792 - val_loss: 0.5211 - val_acc: 0.8254\n",
            "Epoch 19/20\n",
            "32/32 [==============================] - ETA: 0s - loss: 0.0539 - acc: 0.9802\n",
            "Epoch 00019: val_loss did not improve from 0.52114\n",
            "32/32 [==============================] - 22s 691ms/step - loss: 0.0539 - acc: 0.9802 - val_loss: 1.4105 - val_acc: 0.7242\n",
            "Epoch 20/20\n",
            "32/32 [==============================] - ETA: 0s - loss: 0.0733 - acc: 0.9757\n",
            "Epoch 00020: val_loss improved from 0.52114 to 0.46051, saving model to tmp_checkpoint.ckpt\n",
            "32/32 [==============================] - 22s 696ms/step - loss: 0.0733 - acc: 0.9757 - val_loss: 0.4605 - val_acc: 0.8254\n"
          ]
        },
        {
          "output_type": "execute_result",
          "data": {
            "text/plain": [
              "<keras.callbacks.History at 0x7f66d2b77410>"
            ]
          },
          "metadata": {},
          "execution_count": 14
        }
      ]
    },
    {
      "cell_type": "code",
      "metadata": {
        "colab": {
          "base_uri": "https://localhost:8080/"
        },
        "id": "qPyRq6aAgYJ9",
        "outputId": "1d227146-9b72-4954-f428-4fa4fbc133ad"
      },
      "source": [
        "model.load_weights(tmp_file)\n",
        "\n",
        "model.evaluate(valid_data)"
      ],
      "execution_count": 15,
      "outputs": [
        {
          "output_type": "stream",
          "name": "stdout",
          "text": [
            "8/8 [==============================] - 4s 522ms/step - loss: 0.5298 - acc: 0.8075\n"
          ]
        },
        {
          "output_type": "execute_result",
          "data": {
            "text/plain": [
              "[0.5297673344612122, 0.807539701461792]"
            ]
          },
          "metadata": {},
          "execution_count": 15
        }
      ]
    },
    {
      "cell_type": "code",
      "metadata": {
        "id": "uQUU8ZRriXcf"
      },
      "source": [
        ""
      ],
      "execution_count": null,
      "outputs": []
    }
  ]
}